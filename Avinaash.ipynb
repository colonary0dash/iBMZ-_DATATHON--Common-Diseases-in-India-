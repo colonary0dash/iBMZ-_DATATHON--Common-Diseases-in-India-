{
 "cells": [
  {
   "cell_type": "markdown",
   "id": "99e8b587-7c6e-4bb4-9d1e-3f99c0ed008d",
   "metadata": {
    "jp-MarkdownHeadingCollapsed": true
   },
   "source": [
    "# Avinaash Model\n",
    "Avinaash is a Primary Health Consultancy Model, inspired by my \n",
    "# AggI(gr)—and, in fact,by all of our grandmas. \n",
    "  \n",
    "Why do I say this? Because at some point, we all have turned to the wisdom of our elders (especially grandmothers)\n",
    "for remedies when we faced Common Diseases, right? \n",
    "\n",
    "In this modern age of isolation, it’s unfortunate that many of us \n",
    "no longer have a grandma to turn to for advice on how to manage illnesses.\n",
    "\n",
    "But now, we have Avinaash!\n",
    "\n"
   ]
  },
  {
   "cell_type": "markdown",
   "id": "78529202-fe90-492d-9257-f333ead2fedf",
   "metadata": {},
   "source": [
    "# Import Necessary Libraries\n",
    "Lets Import All the Necessary Libraries to create a Quick , Robust and Optimized Machine Learning Model."
   ]
  },
  {
   "cell_type": "code",
   "execution_count": 386,
   "id": "f6daaaef-2e2f-4c5b-8bad-af717154dcc2",
   "metadata": {},
   "outputs": [],
   "source": [
    "import pandas as pd\n",
    "from sklearn.model_selection import train_test_split, cross_val_score\n",
    "from sklearn.ensemble import RandomForestClassifier\n",
    "from sklearn.metrics import accuracy_score, classification_report\n",
    "import matplotlib.pyplot as plt\n",
    "import numpy as np\n",
    "import seaborn as sns"
   ]
  },
  {
   "cell_type": "markdown",
   "id": "fc87df50-9de4-464b-96de-ecbbda55ab93",
   "metadata": {},
   "source": [
    "# Load The Dataset\n",
    "If You Wanna Fire! You Need Bullets,\n",
    "\n",
    "If You Wanna Predict! You Need DATA (Loads and Loads of DATA.)"
   ]
  },
  {
   "cell_type": "code",
   "execution_count": 387,
   "id": "61c22acb-851c-488f-b162-125515fe2a10",
   "metadata": {
    "scrolled": true
   },
   "outputs": [],
   "source": [
    "df = pd.read_csv('IBMz_CommonDisease_Dataset0.csv')"
   ]
  },
  {
   "cell_type": "markdown",
   "id": "abce46ff-10d2-4b98-90f4-fe26027b28cb",
   "metadata": {},
   "source": [
    "# Preview Data \n",
    "Is the Gun's Magazine Full?\n",
    "Checking Initial 5 and Final 5 Values to Verify the Data."
   ]
  },
  {
   "cell_type": "code",
   "execution_count": 392,
   "id": "f7973e41-4311-4d18-9dd1-e0950055e5b0",
   "metadata": {
    "scrolled": true
   },
   "outputs": [
    {
     "name": "stdout",
     "output_type": "stream",
     "text": [
      "  Disease  Age  Period    Symptoms                              Medications\n",
      "0    Cold    1       1  Runny Nose  NOCOLD Syrup - 5ML,Benadryl Syrup - 5ml\n",
      "1    Cold    2       1  Runny Nose  NOCOLD Syrup - 5ML,Benadryl Syrup - 5ml\n",
      "2    Cold    3       1  Runny Nose  NOCOLD Syrup - 5ML,Benadryl Syrup - 5ml\n",
      "3    Cold    4       1  Runny Nose  NOCOLD Syrup - 5ML,Benadryl Syrup - 5ml\n",
      "4    Cold    5       1  Runny Nose  NOCOLD Syrup - 5ML,Benadryl Syrup - 5ml\n"
     ]
    }
   ],
   "source": [
    "print(df.head())"
   ]
  },
  {
   "cell_type": "code",
   "execution_count": 389,
   "id": "3c80fd7a-296e-4865-9dfe-f91b367088a3",
   "metadata": {
    "scrolled": true
   },
   "outputs": [
    {
     "name": "stdout",
     "output_type": "stream",
     "text": [
      "            Disease  Age  Period        Symptoms  \\\n",
      "19994  Stomach Ache   11       1  Food Poisoning   \n",
      "19995  Stomach Ache   12       1  Food Poisoning   \n",
      "19996  Stomach Ache   13       1  Food Poisoning   \n",
      "19997  Stomach Ache   14       1  Food Poisoning   \n",
      "19998  Stomach Ache   15       2  Food Poisoning   \n",
      "\n",
      "                                       Medications  \n",
      "19994  Digene Syrup – 5 ml every 6 hrs , Woodwords  \n",
      "19995  Digene Syrup – 5 ml every 6 hrs , Woodwords  \n",
      "19996  Digene Syrup – 5 ml every 6 hrs , Woodwords  \n",
      "19997  Digene Syrup – 5 ml every 6 hrs , Woodwords  \n",
      "19998                     Rantac 150 , Pantaprazol  \n"
     ]
    }
   ],
   "source": [
    "print(df.tail())"
   ]
  },
  {
   "cell_type": "code",
   "execution_count": 393,
   "id": "7711f9cf-b741-4b83-b320-61af961f1dd2",
   "metadata": {},
   "outputs": [
    {
     "name": "stdout",
     "output_type": "stream",
     "text": [
      "<class 'pandas.core.frame.DataFrame'>\n",
      "RangeIndex: 19999 entries, 0 to 19998\n",
      "Data columns (total 5 columns):\n",
      " #   Column       Non-Null Count  Dtype \n",
      "---  ------       --------------  ----- \n",
      " 0   Disease      19999 non-null  object\n",
      " 1   Age          19999 non-null  int64 \n",
      " 2   Period       19999 non-null  int64 \n",
      " 3   Symptoms     19999 non-null  object\n",
      " 4   Medications  19999 non-null  object\n",
      "dtypes: int64(2), object(3)\n",
      "memory usage: 781.3+ KB\n",
      "None\n"
     ]
    }
   ],
   "source": [
    "print(df.info())"
   ]
  },
  {
   "cell_type": "markdown",
   "id": "2de8be3c-724a-489f-8b94-f48eb6afb9e1",
   "metadata": {},
   "source": [
    "# Let's Get The Input\n",
    "Point your Gun and measure the Parameters..\n",
    "and BANGG!!"
   ]
  },
  {
   "cell_type": "code",
   "execution_count": 394,
   "id": "a4f23dcc-3c79-47c1-804e-12208e4090b0",
   "metadata": {},
   "outputs": [],
   "source": [
    "\n",
    "X = df[['Disease', 'Age', 'Period','Symptoms']]"
   ]
  },
  {
   "cell_type": "markdown",
   "id": "484eaace-f624-4da2-b8af-9ea2c4add01b",
   "metadata": {},
   "source": [
    "# Lets See Whats The Output\n",
    "So what just Happened?"
   ]
  },
  {
   "cell_type": "code",
   "execution_count": 395,
   "id": "ec7b675c-dc1a-47b1-be88-053935cc9edb",
   "metadata": {},
   "outputs": [],
   "source": [
    "\n",
    "y = df[['Medications']]"
   ]
  },
  {
   "cell_type": "markdown",
   "id": "3b714496-ed8a-4c9e-b7ea-e5e7debf5685",
   "metadata": {},
   "source": [
    "# Convert Categorical Variables into Numericals (For Random Forest)\n"
   ]
  },
  {
   "cell_type": "code",
   "execution_count": 396,
   "id": "856fc6eb-01f9-4d50-80ad-81a9bdde9f89",
   "metadata": {},
   "outputs": [],
   "source": [
    "X = pd.get_dummies(X)"
   ]
  },
  {
   "cell_type": "markdown",
   "id": "456edd36-ba90-4820-90e2-9aff6482dbdc",
   "metadata": {},
   "source": [
    "# Split Dataset Into Training And Texxting Sets (80% Train, 20% Test)\n",
    "Fire Lots of Bullet at Training ,So that the Target Won't be Able To Escape !"
   ]
  },
  {
   "cell_type": "code",
   "execution_count": 397,
   "id": "a42d18f6-689c-4de5-ab89-cf620b2102cd",
   "metadata": {},
   "outputs": [],
   "source": [
    "X_train, X_test, y_train, y_test = train_test_split(X, y, test_size=0.2, random_state=42)"
   ]
  },
  {
   "cell_type": "code",
   "execution_count": 398,
   "id": "9c9459fc-c457-4a39-8d7f-f6af038a8b2f",
   "metadata": {},
   "outputs": [],
   "source": [
    "# Initialize RandomForestClassifier"
   ]
  },
  {
   "cell_type": "code",
   "execution_count": 399,
   "id": "2f00bead-1270-4abb-9811-ec4e00cc0dc9",
   "metadata": {},
   "outputs": [],
   "source": [
    "model = RandomForestClassifier(n_estimators=100, random_state=42)"
   ]
  },
  {
   "cell_type": "markdown",
   "id": "9327d271-de62-4983-8262-9814b2d6889f",
   "metadata": {},
   "source": [
    "# Train The Model\n",
    "Let's Practice To Fire!"
   ]
  },
  {
   "cell_type": "code",
   "execution_count": 400,
   "id": "5996a828-7c93-4315-b74e-abd7c5006db5",
   "metadata": {},
   "outputs": [
    {
     "name": "stderr",
     "output_type": "stream",
     "text": [
      "/home/jovyan/.local/lib/python3.10/site-packages/sklearn/base.py:1351: DataConversionWarning: A column-vector y was passed when a 1d array was expected. Please change the shape of y to (n_samples,), for example using ravel().\n",
      "  return fit_method(estimator, *args, **kwargs)\n"
     ]
    },
    {
     "data": {
      "text/html": [
       "<style>#sk-container-id-16 {\n",
       "  /* Definition of color scheme common for light and dark mode */\n",
       "  --sklearn-color-text: black;\n",
       "  --sklearn-color-line: gray;\n",
       "  /* Definition of color scheme for unfitted estimators */\n",
       "  --sklearn-color-unfitted-level-0: #fff5e6;\n",
       "  --sklearn-color-unfitted-level-1: #f6e4d2;\n",
       "  --sklearn-color-unfitted-level-2: #ffe0b3;\n",
       "  --sklearn-color-unfitted-level-3: chocolate;\n",
       "  /* Definition of color scheme for fitted estimators */\n",
       "  --sklearn-color-fitted-level-0: #f0f8ff;\n",
       "  --sklearn-color-fitted-level-1: #d4ebff;\n",
       "  --sklearn-color-fitted-level-2: #b3dbfd;\n",
       "  --sklearn-color-fitted-level-3: cornflowerblue;\n",
       "\n",
       "  /* Specific color for light theme */\n",
       "  --sklearn-color-text-on-default-background: var(--sg-text-color, var(--theme-code-foreground, var(--jp-content-font-color1, black)));\n",
       "  --sklearn-color-background: var(--sg-background-color, var(--theme-background, var(--jp-layout-color0, white)));\n",
       "  --sklearn-color-border-box: var(--sg-text-color, var(--theme-code-foreground, var(--jp-content-font-color1, black)));\n",
       "  --sklearn-color-icon: #696969;\n",
       "\n",
       "  @media (prefers-color-scheme: dark) {\n",
       "    /* Redefinition of color scheme for dark theme */\n",
       "    --sklearn-color-text-on-default-background: var(--sg-text-color, var(--theme-code-foreground, var(--jp-content-font-color1, white)));\n",
       "    --sklearn-color-background: var(--sg-background-color, var(--theme-background, var(--jp-layout-color0, #111)));\n",
       "    --sklearn-color-border-box: var(--sg-text-color, var(--theme-code-foreground, var(--jp-content-font-color1, white)));\n",
       "    --sklearn-color-icon: #878787;\n",
       "  }\n",
       "}\n",
       "\n",
       "#sk-container-id-16 {\n",
       "  color: var(--sklearn-color-text);\n",
       "}\n",
       "\n",
       "#sk-container-id-16 pre {\n",
       "  padding: 0;\n",
       "}\n",
       "\n",
       "#sk-container-id-16 input.sk-hidden--visually {\n",
       "  border: 0;\n",
       "  clip: rect(1px 1px 1px 1px);\n",
       "  clip: rect(1px, 1px, 1px, 1px);\n",
       "  height: 1px;\n",
       "  margin: -1px;\n",
       "  overflow: hidden;\n",
       "  padding: 0;\n",
       "  position: absolute;\n",
       "  width: 1px;\n",
       "}\n",
       "\n",
       "#sk-container-id-16 div.sk-dashed-wrapped {\n",
       "  border: 1px dashed var(--sklearn-color-line);\n",
       "  margin: 0 0.4em 0.5em 0.4em;\n",
       "  box-sizing: border-box;\n",
       "  padding-bottom: 0.4em;\n",
       "  background-color: var(--sklearn-color-background);\n",
       "}\n",
       "\n",
       "#sk-container-id-16 div.sk-container {\n",
       "  /* jupyter's `normalize.less` sets `[hidden] { display: none; }`\n",
       "     but bootstrap.min.css set `[hidden] { display: none !important; }`\n",
       "     so we also need the `!important` here to be able to override the\n",
       "     default hidden behavior on the sphinx rendered scikit-learn.org.\n",
       "     See: https://github.com/scikit-learn/scikit-learn/issues/21755 */\n",
       "  display: inline-block !important;\n",
       "  position: relative;\n",
       "}\n",
       "\n",
       "#sk-container-id-16 div.sk-text-repr-fallback {\n",
       "  display: none;\n",
       "}\n",
       "\n",
       "div.sk-parallel-item,\n",
       "div.sk-serial,\n",
       "div.sk-item {\n",
       "  /* draw centered vertical line to link estimators */\n",
       "  background-image: linear-gradient(var(--sklearn-color-text-on-default-background), var(--sklearn-color-text-on-default-background));\n",
       "  background-size: 2px 100%;\n",
       "  background-repeat: no-repeat;\n",
       "  background-position: center center;\n",
       "}\n",
       "\n",
       "/* Parallel-specific style estimator block */\n",
       "\n",
       "#sk-container-id-16 div.sk-parallel-item::after {\n",
       "  content: \"\";\n",
       "  width: 100%;\n",
       "  border-bottom: 2px solid var(--sklearn-color-text-on-default-background);\n",
       "  flex-grow: 1;\n",
       "}\n",
       "\n",
       "#sk-container-id-16 div.sk-parallel {\n",
       "  display: flex;\n",
       "  align-items: stretch;\n",
       "  justify-content: center;\n",
       "  background-color: var(--sklearn-color-background);\n",
       "  position: relative;\n",
       "}\n",
       "\n",
       "#sk-container-id-16 div.sk-parallel-item {\n",
       "  display: flex;\n",
       "  flex-direction: column;\n",
       "}\n",
       "\n",
       "#sk-container-id-16 div.sk-parallel-item:first-child::after {\n",
       "  align-self: flex-end;\n",
       "  width: 50%;\n",
       "}\n",
       "\n",
       "#sk-container-id-16 div.sk-parallel-item:last-child::after {\n",
       "  align-self: flex-start;\n",
       "  width: 50%;\n",
       "}\n",
       "\n",
       "#sk-container-id-16 div.sk-parallel-item:only-child::after {\n",
       "  width: 0;\n",
       "}\n",
       "\n",
       "/* Serial-specific style estimator block */\n",
       "\n",
       "#sk-container-id-16 div.sk-serial {\n",
       "  display: flex;\n",
       "  flex-direction: column;\n",
       "  align-items: center;\n",
       "  background-color: var(--sklearn-color-background);\n",
       "  padding-right: 1em;\n",
       "  padding-left: 1em;\n",
       "}\n",
       "\n",
       "\n",
       "/* Toggleable style: style used for estimator/Pipeline/ColumnTransformer box that is\n",
       "clickable and can be expanded/collapsed.\n",
       "- Pipeline and ColumnTransformer use this feature and define the default style\n",
       "- Estimators will overwrite some part of the style using the `sk-estimator` class\n",
       "*/\n",
       "\n",
       "/* Pipeline and ColumnTransformer style (default) */\n",
       "\n",
       "#sk-container-id-16 div.sk-toggleable {\n",
       "  /* Default theme specific background. It is overwritten whether we have a\n",
       "  specific estimator or a Pipeline/ColumnTransformer */\n",
       "  background-color: var(--sklearn-color-background);\n",
       "}\n",
       "\n",
       "/* Toggleable label */\n",
       "#sk-container-id-16 label.sk-toggleable__label {\n",
       "  cursor: pointer;\n",
       "  display: block;\n",
       "  width: 100%;\n",
       "  margin-bottom: 0;\n",
       "  padding: 0.5em;\n",
       "  box-sizing: border-box;\n",
       "  text-align: center;\n",
       "}\n",
       "\n",
       "#sk-container-id-16 label.sk-toggleable__label-arrow:before {\n",
       "  /* Arrow on the left of the label */\n",
       "  content: \"▸\";\n",
       "  float: left;\n",
       "  margin-right: 0.25em;\n",
       "  color: var(--sklearn-color-icon);\n",
       "}\n",
       "\n",
       "#sk-container-id-16 label.sk-toggleable__label-arrow:hover:before {\n",
       "  color: var(--sklearn-color-text);\n",
       "}\n",
       "\n",
       "/* Toggleable content - dropdown */\n",
       "\n",
       "#sk-container-id-16 div.sk-toggleable__content {\n",
       "  max-height: 0;\n",
       "  max-width: 0;\n",
       "  overflow: hidden;\n",
       "  text-align: left;\n",
       "  /* unfitted */\n",
       "  background-color: var(--sklearn-color-unfitted-level-0);\n",
       "}\n",
       "\n",
       "#sk-container-id-16 div.sk-toggleable__content.fitted {\n",
       "  /* fitted */\n",
       "  background-color: var(--sklearn-color-fitted-level-0);\n",
       "}\n",
       "\n",
       "#sk-container-id-16 div.sk-toggleable__content pre {\n",
       "  margin: 0.2em;\n",
       "  border-radius: 0.25em;\n",
       "  color: var(--sklearn-color-text);\n",
       "  /* unfitted */\n",
       "  background-color: var(--sklearn-color-unfitted-level-0);\n",
       "}\n",
       "\n",
       "#sk-container-id-16 div.sk-toggleable__content.fitted pre {\n",
       "  /* unfitted */\n",
       "  background-color: var(--sklearn-color-fitted-level-0);\n",
       "}\n",
       "\n",
       "#sk-container-id-16 input.sk-toggleable__control:checked~div.sk-toggleable__content {\n",
       "  /* Expand drop-down */\n",
       "  max-height: 200px;\n",
       "  max-width: 100%;\n",
       "  overflow: auto;\n",
       "}\n",
       "\n",
       "#sk-container-id-16 input.sk-toggleable__control:checked~label.sk-toggleable__label-arrow:before {\n",
       "  content: \"▾\";\n",
       "}\n",
       "\n",
       "/* Pipeline/ColumnTransformer-specific style */\n",
       "\n",
       "#sk-container-id-16 div.sk-label input.sk-toggleable__control:checked~label.sk-toggleable__label {\n",
       "  color: var(--sklearn-color-text);\n",
       "  background-color: var(--sklearn-color-unfitted-level-2);\n",
       "}\n",
       "\n",
       "#sk-container-id-16 div.sk-label.fitted input.sk-toggleable__control:checked~label.sk-toggleable__label {\n",
       "  background-color: var(--sklearn-color-fitted-level-2);\n",
       "}\n",
       "\n",
       "/* Estimator-specific style */\n",
       "\n",
       "/* Colorize estimator box */\n",
       "#sk-container-id-16 div.sk-estimator input.sk-toggleable__control:checked~label.sk-toggleable__label {\n",
       "  /* unfitted */\n",
       "  background-color: var(--sklearn-color-unfitted-level-2);\n",
       "}\n",
       "\n",
       "#sk-container-id-16 div.sk-estimator.fitted input.sk-toggleable__control:checked~label.sk-toggleable__label {\n",
       "  /* fitted */\n",
       "  background-color: var(--sklearn-color-fitted-level-2);\n",
       "}\n",
       "\n",
       "#sk-container-id-16 div.sk-label label.sk-toggleable__label,\n",
       "#sk-container-id-16 div.sk-label label {\n",
       "  /* The background is the default theme color */\n",
       "  color: var(--sklearn-color-text-on-default-background);\n",
       "}\n",
       "\n",
       "/* On hover, darken the color of the background */\n",
       "#sk-container-id-16 div.sk-label:hover label.sk-toggleable__label {\n",
       "  color: var(--sklearn-color-text);\n",
       "  background-color: var(--sklearn-color-unfitted-level-2);\n",
       "}\n",
       "\n",
       "/* Label box, darken color on hover, fitted */\n",
       "#sk-container-id-16 div.sk-label.fitted:hover label.sk-toggleable__label.fitted {\n",
       "  color: var(--sklearn-color-text);\n",
       "  background-color: var(--sklearn-color-fitted-level-2);\n",
       "}\n",
       "\n",
       "/* Estimator label */\n",
       "\n",
       "#sk-container-id-16 div.sk-label label {\n",
       "  font-family: monospace;\n",
       "  font-weight: bold;\n",
       "  display: inline-block;\n",
       "  line-height: 1.2em;\n",
       "}\n",
       "\n",
       "#sk-container-id-16 div.sk-label-container {\n",
       "  text-align: center;\n",
       "}\n",
       "\n",
       "/* Estimator-specific */\n",
       "#sk-container-id-16 div.sk-estimator {\n",
       "  font-family: monospace;\n",
       "  border: 1px dotted var(--sklearn-color-border-box);\n",
       "  border-radius: 0.25em;\n",
       "  box-sizing: border-box;\n",
       "  margin-bottom: 0.5em;\n",
       "  /* unfitted */\n",
       "  background-color: var(--sklearn-color-unfitted-level-0);\n",
       "}\n",
       "\n",
       "#sk-container-id-16 div.sk-estimator.fitted {\n",
       "  /* fitted */\n",
       "  background-color: var(--sklearn-color-fitted-level-0);\n",
       "}\n",
       "\n",
       "/* on hover */\n",
       "#sk-container-id-16 div.sk-estimator:hover {\n",
       "  /* unfitted */\n",
       "  background-color: var(--sklearn-color-unfitted-level-2);\n",
       "}\n",
       "\n",
       "#sk-container-id-16 div.sk-estimator.fitted:hover {\n",
       "  /* fitted */\n",
       "  background-color: var(--sklearn-color-fitted-level-2);\n",
       "}\n",
       "\n",
       "/* Specification for estimator info (e.g. \"i\" and \"?\") */\n",
       "\n",
       "/* Common style for \"i\" and \"?\" */\n",
       "\n",
       ".sk-estimator-doc-link,\n",
       "a:link.sk-estimator-doc-link,\n",
       "a:visited.sk-estimator-doc-link {\n",
       "  float: right;\n",
       "  font-size: smaller;\n",
       "  line-height: 1em;\n",
       "  font-family: monospace;\n",
       "  background-color: var(--sklearn-color-background);\n",
       "  border-radius: 1em;\n",
       "  height: 1em;\n",
       "  width: 1em;\n",
       "  text-decoration: none !important;\n",
       "  margin-left: 1ex;\n",
       "  /* unfitted */\n",
       "  border: var(--sklearn-color-unfitted-level-1) 1pt solid;\n",
       "  color: var(--sklearn-color-unfitted-level-1);\n",
       "}\n",
       "\n",
       ".sk-estimator-doc-link.fitted,\n",
       "a:link.sk-estimator-doc-link.fitted,\n",
       "a:visited.sk-estimator-doc-link.fitted {\n",
       "  /* fitted */\n",
       "  border: var(--sklearn-color-fitted-level-1) 1pt solid;\n",
       "  color: var(--sklearn-color-fitted-level-1);\n",
       "}\n",
       "\n",
       "/* On hover */\n",
       "div.sk-estimator:hover .sk-estimator-doc-link:hover,\n",
       ".sk-estimator-doc-link:hover,\n",
       "div.sk-label-container:hover .sk-estimator-doc-link:hover,\n",
       ".sk-estimator-doc-link:hover {\n",
       "  /* unfitted */\n",
       "  background-color: var(--sklearn-color-unfitted-level-3);\n",
       "  color: var(--sklearn-color-background);\n",
       "  text-decoration: none;\n",
       "}\n",
       "\n",
       "div.sk-estimator.fitted:hover .sk-estimator-doc-link.fitted:hover,\n",
       ".sk-estimator-doc-link.fitted:hover,\n",
       "div.sk-label-container:hover .sk-estimator-doc-link.fitted:hover,\n",
       ".sk-estimator-doc-link.fitted:hover {\n",
       "  /* fitted */\n",
       "  background-color: var(--sklearn-color-fitted-level-3);\n",
       "  color: var(--sklearn-color-background);\n",
       "  text-decoration: none;\n",
       "}\n",
       "\n",
       "/* Span, style for the box shown on hovering the info icon */\n",
       ".sk-estimator-doc-link span {\n",
       "  display: none;\n",
       "  z-index: 9999;\n",
       "  position: relative;\n",
       "  font-weight: normal;\n",
       "  right: .2ex;\n",
       "  padding: .5ex;\n",
       "  margin: .5ex;\n",
       "  width: min-content;\n",
       "  min-width: 20ex;\n",
       "  max-width: 50ex;\n",
       "  color: var(--sklearn-color-text);\n",
       "  box-shadow: 2pt 2pt 4pt #999;\n",
       "  /* unfitted */\n",
       "  background: var(--sklearn-color-unfitted-level-0);\n",
       "  border: .5pt solid var(--sklearn-color-unfitted-level-3);\n",
       "}\n",
       "\n",
       ".sk-estimator-doc-link.fitted span {\n",
       "  /* fitted */\n",
       "  background: var(--sklearn-color-fitted-level-0);\n",
       "  border: var(--sklearn-color-fitted-level-3);\n",
       "}\n",
       "\n",
       ".sk-estimator-doc-link:hover span {\n",
       "  display: block;\n",
       "}\n",
       "\n",
       "/* \"?\"-specific style due to the `<a>` HTML tag */\n",
       "\n",
       "#sk-container-id-16 a.estimator_doc_link {\n",
       "  float: right;\n",
       "  font-size: 1rem;\n",
       "  line-height: 1em;\n",
       "  font-family: monospace;\n",
       "  background-color: var(--sklearn-color-background);\n",
       "  border-radius: 1rem;\n",
       "  height: 1rem;\n",
       "  width: 1rem;\n",
       "  text-decoration: none;\n",
       "  /* unfitted */\n",
       "  color: var(--sklearn-color-unfitted-level-1);\n",
       "  border: var(--sklearn-color-unfitted-level-1) 1pt solid;\n",
       "}\n",
       "\n",
       "#sk-container-id-16 a.estimator_doc_link.fitted {\n",
       "  /* fitted */\n",
       "  border: var(--sklearn-color-fitted-level-1) 1pt solid;\n",
       "  color: var(--sklearn-color-fitted-level-1);\n",
       "}\n",
       "\n",
       "/* On hover */\n",
       "#sk-container-id-16 a.estimator_doc_link:hover {\n",
       "  /* unfitted */\n",
       "  background-color: var(--sklearn-color-unfitted-level-3);\n",
       "  color: var(--sklearn-color-background);\n",
       "  text-decoration: none;\n",
       "}\n",
       "\n",
       "#sk-container-id-16 a.estimator_doc_link.fitted:hover {\n",
       "  /* fitted */\n",
       "  background-color: var(--sklearn-color-fitted-level-3);\n",
       "}\n",
       "</style><div id=\"sk-container-id-16\" class=\"sk-top-container\"><div class=\"sk-text-repr-fallback\"><pre>RandomForestClassifier(random_state=42)</pre><b>In a Jupyter environment, please rerun this cell to show the HTML representation or trust the notebook. <br />On GitHub, the HTML representation is unable to render, please try loading this page with nbviewer.org.</b></div><div class=\"sk-container\" hidden><div class=\"sk-item\"><div class=\"sk-estimator fitted sk-toggleable\"><input class=\"sk-toggleable__control sk-hidden--visually\" id=\"sk-estimator-id-16\" type=\"checkbox\" checked><label for=\"sk-estimator-id-16\" class=\"sk-toggleable__label fitted sk-toggleable__label-arrow fitted\">&nbsp;&nbsp;RandomForestClassifier<a class=\"sk-estimator-doc-link fitted\" rel=\"noreferrer\" target=\"_blank\" href=\"https://scikit-learn.org/1.4/modules/generated/sklearn.ensemble.RandomForestClassifier.html\">?<span>Documentation for RandomForestClassifier</span></a><span class=\"sk-estimator-doc-link fitted\">i<span>Fitted</span></span></label><div class=\"sk-toggleable__content fitted\"><pre>RandomForestClassifier(random_state=42)</pre></div> </div></div></div></div>"
      ],
      "text/plain": [
       "RandomForestClassifier(random_state=42)"
      ]
     },
     "execution_count": 400,
     "metadata": {},
     "output_type": "execute_result"
    }
   ],
   "source": [
    "model.fit(X_train, y_train)"
   ]
  },
  {
   "cell_type": "markdown",
   "id": "729a0887-2098-4df7-8332-a26789a63d9a",
   "metadata": {},
   "source": [
    "# Make Predictions On The Text Data\n",
    "Did that hit the Target??"
   ]
  },
  {
   "cell_type": "code",
   "execution_count": 401,
   "id": "eea1babb-1f2f-4de6-ba1e-dc2858640505",
   "metadata": {},
   "outputs": [],
   "source": [
    "y_pred = model.predict(X_test)"
   ]
  },
  {
   "cell_type": "markdown",
   "id": "e49aaa30-82db-4d67-9a29-1ce6da2258bf",
   "metadata": {},
   "source": [
    "# Evaluate The Model\n",
    "How much did it Hit ? \n",
    "How much did it Miss ?"
   ]
  },
  {
   "cell_type": "code",
   "execution_count": 402,
   "id": "6cbb71e0-a1ed-4fcf-8c0c-01e26388adb8",
   "metadata": {},
   "outputs": [
    {
     "name": "stdout",
     "output_type": "stream",
     "text": [
      "Accuracy: 88.22%\n"
     ]
    }
   ],
   "source": [
    "accuracy = accuracy_score(y_test, y_pred)\n",
    "print(f'Accuracy: {accuracy * 100:.2f}%')\n"
   ]
  },
  {
   "cell_type": "markdown",
   "id": "b0d7c64a-8458-41ad-a1ea-f976898779b3",
   "metadata": {},
   "source": [
    "# Print Classification Report"
   ]
  },
  {
   "cell_type": "code",
   "execution_count": 403,
   "id": "2044df3b-04d4-406d-9f02-bf682568c711",
   "metadata": {},
   "outputs": [
    {
     "name": "stdout",
     "output_type": "stream",
     "text": [
      "                                                                                  precision    recall  f1-score   support\n",
      "\n",
      "              Benadryl Syrup - 10ml , Cetirizine Tablet - 1, Sinarest Tablet - 1       0.64      0.79      0.71       408\n",
      "          Benadryl Syrup - 10ml , Cetirizine Tablet - 1/2, Sinarest Tablet - 1/2       0.67      0.71      0.69        28\n",
      "                                                            COUGHRELIEF, Cofsils       1.00      1.00      1.00        78\n",
      "                                                           COUGHRELIEF, Cofsils        1.00      1.00      1.00         2\n",
      "                                                 COUGHRELIEF, Cofsils, Strepsils       1.00      1.00      1.00       290\n",
      "      COUGHRELIEF, Cofsils, Strepsils, Montac LC  Tablet , Chericof Syrup - 10ml       0.66      0.63      0.64       176\n",
      "    COUGHRELIEF, Cofsils, Strepsils, Montac LC Kid Tablet , Chericof Syrup - 5ml       0.33      0.27      0.30        15\n",
      "     COUGHRELIEF, Cofsils, Strepsils, Montac LC Kid Tablet, Chericof Syrup - 5ml       1.00      1.00      1.00        14\n",
      "Chericof Syrup , Cofsils, Strepsils, Montac LC Kid Tablet , Chericof Syrup - 5ml       0.78      0.83      0.80        47\n",
      "   Chericof Syrup , Cofsils, Strepsils, Montac LC Tablet , Chericof Syrup - 10ml       0.82      0.84      0.83       354\n",
      "                                                            Dart , Brufen Tablet       1.00      1.00      1.00       332\n",
      "                                                 Digene Syrup – 5 ml every 6 hrs       1.00      1.00      1.00         9\n",
      "                                     Digene Syrup – 5 ml every 6 hrs , Woodwords       1.00      1.00      1.00        83\n",
      "                                      Digene Syrup – 5 ml every 6 hrs, Woodwords       1.00      1.00      1.00        14\n",
      "                                                      Dolo 650 - 1 , Sumo Tablet       1.00      1.00      1.00       503\n",
      "                                                                   Gelusil Syrup       1.00      1.00      1.00       341\n",
      "                                       Meftal P Syrup 5ml , Dolo 250 Syrup - 5ml       1.00      1.00      1.00        72\n",
      "                                         NOCOLD Syrup - 5ML,Benadryl Syrup - 5ml       0.69      0.69      0.69        74\n",
      "                                                        Rantac 150 , Pantaprazol       1.00      1.00      1.00       668\n",
      "                                                               Rantac Syrup -5ml       1.00      1.00      1.00        63\n",
      "                                                                     Relent 5ml        0.25      0.50      0.33         8\n",
      "                                                             Relent Syrup - 10ml       0.72      0.50      0.59       222\n",
      "                                                              Relent Syrup - 5ml       0.61      0.44      0.51        32\n",
      "                                                           Relent Tablet / Syrup       0.26      0.19      0.22        98\n",
      "                                                                Steam Medication       1.00      1.00      1.00        69\n",
      "\n",
      "                                                                        accuracy                           0.88      4000\n",
      "                                                                       macro avg       0.82      0.82      0.81      4000\n",
      "                                                                    weighted avg       0.88      0.88      0.88      4000\n",
      "\n"
     ]
    }
   ],
   "source": [
    "print(classification_report(y_test, y_pred))"
   ]
  },
  {
   "cell_type": "markdown",
   "id": "9d871bc9-17e7-4029-adee-7fb83e4a4b03",
   "metadata": {},
   "source": [
    "# Cross- Validation Score"
   ]
  },
  {
   "cell_type": "code",
   "execution_count": 404,
   "id": "f6c36127-3c4a-4a1c-b095-837994a0a0b8",
   "metadata": {
    "scrolled": true
   },
   "outputs": [
    {
     "name": "stderr",
     "output_type": "stream",
     "text": [
      "/home/jovyan/.local/lib/python3.10/site-packages/sklearn/base.py:1351: DataConversionWarning: A column-vector y was passed when a 1d array was expected. Please change the shape of y to (n_samples,), for example using ravel().\n",
      "  return fit_method(estimator, *args, **kwargs)\n",
      "/home/jovyan/.local/lib/python3.10/site-packages/sklearn/base.py:1351: DataConversionWarning: A column-vector y was passed when a 1d array was expected. Please change the shape of y to (n_samples,), for example using ravel().\n",
      "  return fit_method(estimator, *args, **kwargs)\n",
      "/home/jovyan/.local/lib/python3.10/site-packages/sklearn/base.py:1351: DataConversionWarning: A column-vector y was passed when a 1d array was expected. Please change the shape of y to (n_samples,), for example using ravel().\n",
      "  return fit_method(estimator, *args, **kwargs)\n",
      "/home/jovyan/.local/lib/python3.10/site-packages/sklearn/base.py:1351: DataConversionWarning: A column-vector y was passed when a 1d array was expected. Please change the shape of y to (n_samples,), for example using ravel().\n",
      "  return fit_method(estimator, *args, **kwargs)\n",
      "/home/jovyan/.local/lib/python3.10/site-packages/sklearn/base.py:1351: DataConversionWarning: A column-vector y was passed when a 1d array was expected. Please change the shape of y to (n_samples,), for example using ravel().\n",
      "  return fit_method(estimator, *args, **kwargs)\n"
     ]
    },
    {
     "name": "stdout",
     "output_type": "stream",
     "text": [
      "Cross-validation scores: [0.9005     0.93025    0.9205     0.9105     0.94023506]\n",
      "Mean CV Score: 0.9203970117529382\n"
     ]
    }
   ],
   "source": [
    "cv_scores = cross_val_score(model, X, y, cv=5)\n",
    "print(f\"Cross-validation scores: {cv_scores}\")\n",
    "print(f\"Mean CV Score: {cv_scores.mean()}\")\n"
   ]
  },
  {
   "cell_type": "markdown",
   "id": "0789fd21-c587-49c8-b934-52cfe304925d",
   "metadata": {},
   "source": [
    "# Function To Predict Medication Based On User Input\n",
    "Let's See How Much of Practice is Yielding !"
   ]
  },
  {
   "cell_type": "code",
   "execution_count": 405,
   "id": "e27d94c9-6c86-420a-9e4f-004b4163fe8f",
   "metadata": {},
   "outputs": [],
   "source": [
    "def predict_Medications(Disease,Age,Period,Symptoms):\n",
    "    # Convert user input to match model's training features\n",
    "    input_data = pd.DataFrame([[Disease,Age,Period, Symptoms]], columns=['Disease','Age','Period','Symptoms'])\n",
    "    input_data = pd.get_dummies(input_data)\n",
    "    input_data = input_data.reindex(columns=X.columns, fill_value=0)\n",
    "    predicted_medication = model.predict(input_data)\n",
    "    return predicted_medication[0]\n",
    "    "
   ]
  },
  {
   "cell_type": "markdown",
   "id": "5838e509-ff89-4bd6-9943-b8544e68809e",
   "metadata": {},
   "source": [
    "# Example Of Getting Prediction For A Specific Case\n",
    "Bulls Eye! Bulls Eye! Bulls Eye!!!"
   ]
  },
  {
   "cell_type": "markdown",
   "id": "c97ca278-1ee4-4a2f-8412-bbbefb47ded5",
   "metadata": {},
   "source": [
    "The uniqueness of the Model is that it Takes in Different Approach in Consultency wrt to Age of User,\n",
    "\n",
    "What do I mean By that?\n",
    "\n",
    "As you can Observe Once you put in \"Disease\" , it asks your \"Age\" Which helps \n",
    "Model to specify The Medication based on \n",
    "age reducing the risk of Side effects.\n",
    "\n",
    "The period specifies From How Many Days a person is Symptamatic!\n",
    "\n",
    "Here's an Example \n"
   ]
  },
  {
   "cell_type": "code",
   "execution_count": 406,
   "id": "9081f698-677e-46ae-9fec-e76c1b653839",
   "metadata": {},
   "outputs": [
    {
     "name": "stdout",
     "output_type": "stream",
     "text": [
      "Predicted Medications: Relent Tablet / Syrup\n",
      "Thank You for Using Avinaash! This is for Primary Consultency Only, We always suggest you to Visit a Doctor!\n"
     ]
    }
   ],
   "source": [
    "Disease_input = 'Cold'   # Example input\n",
    "Age_input = 12\n",
    "Period_input = 2  \n",
    "Symptoms_input = 'Runny Nose' # Example: Time in years\n",
    "\n",
    "predicted_Med = predict_Medications(Disease_input, Age_input, Period_input, Symptoms_input )\n",
    "print(f\"Predicted Medications: {predicted_Med}\")\n",
    "\n",
    "print(\"Thank You for Using Avinaash! This is for Primary Consultency Only, We always suggest you to Visit a Doctor!\")\n"
   ]
  },
  {
   "cell_type": "markdown",
   "id": "9a0b248a-2bdb-41c2-9ee8-9e584dadcf9b",
   "metadata": {},
   "source": [
    "Although we are So much sure about our Model Avinaash's Predictions,\n",
    "\n",
    "We respect and care The User lot More, \n",
    "\n",
    "Hence \n",
    "\n",
    "We always Suggest to go to A Doctor to get an Health Check Done!"
   ]
  },
  {
   "cell_type": "markdown",
   "id": "c98dea04-5f10-4aa0-a94e-c46b428796e3",
   "metadata": {},
   "source": [
    " # Similarlly we have Predicted for range of Disease and Age Groups"
   ]
  },
  {
   "cell_type": "code",
   "execution_count": 374,
   "id": "d66b97a5-d928-4e38-8230-650c122e71af",
   "metadata": {},
   "outputs": [],
   "source": [
    "# Example Of Getting Prediction For A Specific Case"
   ]
  },
  {
   "cell_type": "code",
   "execution_count": 375,
   "id": "c9a932a2-ac09-4cc8-b90b-58198356faee",
   "metadata": {
    "scrolled": true
   },
   "outputs": [
    {
     "name": "stdout",
     "output_type": "stream",
     "text": [
      "Predicted Medications: Rantac 150 , Pantaprazol\n",
      "Thank You for Using Avinaash! This is for Primary Consultency Only, We always suggest you to Visit a Doctor!\n"
     ]
    }
   ],
   "source": [
    "Disease_input = 'Stomach Ache'   # Example input\n",
    "Age_input = 15\n",
    "Period_input = 2  \n",
    "Symptoms_input = 'Bloating, nausea, crying' # Example: Time in years\n",
    "\n",
    "predicted_Med = predict_Medications(Disease_input, Age_input, Period_input, Symptoms_input )\n",
    "print(f\"Predicted Medications: {predicted_Med}\")\n",
    "\n",
    "print(\"Thank You for Using Avinaash! This is for Primary Consultency Only, We always suggest you to Visit a Doctor!\")"
   ]
  },
  {
   "cell_type": "code",
   "execution_count": 376,
   "id": "262ecb41-9e21-4f51-a790-d5cc1ede756b",
   "metadata": {},
   "outputs": [],
   "source": [
    "# Example Of Getting Prediction For A Specific Case"
   ]
  },
  {
   "cell_type": "code",
   "execution_count": 377,
   "id": "bf89e154-705f-4b4f-8c4e-47b60c688837",
   "metadata": {},
   "outputs": [
    {
     "name": "stdout",
     "output_type": "stream",
     "text": [
      "Predicted Medications: Gelusil Syrup\n",
      "Thank You for Using Avinaash! This is for Primary Consultency Only, We always suggest you to Visit a Doctor!\n"
     ]
    }
   ],
   "source": [
    "Disease_input = 'Acidity' \n",
    "Age_input = 11\n",
    "Period_input = 2  \n",
    "Symptoms_input = 'Bloating ,Heartburn' \n",
    "\n",
    "predicted_Med = predict_Medications(Disease_input, Age_input, Period_input, Symptoms_input)\n",
    "print(f\"Predicted Medications: {predicted_Med}\")\n",
    "\n",
    "print(\"Thank You for Using Avinaash! This is for Primary Consultency Only, We always suggest you to Visit a Doctor!\")"
   ]
  },
  {
   "cell_type": "code",
   "execution_count": 378,
   "id": "86a1bc12-4e36-4a37-8bc1-839cb2e6ecca",
   "metadata": {},
   "outputs": [],
   "source": [
    "# Example Of Getting Prediction For A Specific Case"
   ]
  },
  {
   "cell_type": "code",
   "execution_count": 379,
   "id": "6991c454-5a4b-46c7-ab48-f32c9b56b6d5",
   "metadata": {},
   "outputs": [
    {
     "name": "stdout",
     "output_type": "stream",
     "text": [
      "Predicted Medications: Rantac 150 , Pantaprazol\n",
      "Thank You for Using Avinaash! This is for Primary Consultency Only, We always suggest you to Visit a Doctor!\n"
     ]
    }
   ],
   "source": [
    "Disease_input = 'Stomach Ache'   # Example input\n",
    "Age_input = 37\n",
    "Period_input = 2  \n",
    "Symptoms_input = 'Bloating, nausea, crying' # Example: Time in years\n",
    "\n",
    "predicted_Med = predict_Medications(Disease_input, Age_input, Period_input, Symptoms_input )\n",
    "print(f\"Predicted Medications: {predicted_Med}\")\n",
    "\n",
    "print(\"Thank You for Using Avinaash! This is for Primary Consultency Only, We always suggest you to Visit a Doctor!\")"
   ]
  },
  {
   "cell_type": "code",
   "execution_count": 380,
   "id": "2a1694ba-1c49-4d89-a0b0-af4da77c7b94",
   "metadata": {},
   "outputs": [],
   "source": [
    "# Example Of Getting Prediction For A Specific Case"
   ]
  },
  {
   "cell_type": "code",
   "execution_count": 381,
   "id": "70f19653-885a-42fc-b365-749865425652",
   "metadata": {},
   "outputs": [
    {
     "name": "stdout",
     "output_type": "stream",
     "text": [
      "Predicted Medications: COUGHRELIEF, Cofsils, Strepsils\n",
      "Thank You for Using Avinaash! This is for Primary Consultency Only, We always suggest you to Visit a Doctor!\n"
     ]
    }
   ],
   "source": [
    "Disease_input = 'Cough'# Example input\n",
    "Age_input = 20\n",
    "Period_input = 14 \n",
    "Symptoms_input = 'Throatpain' # Example: Time in years\n",
    "\n",
    "predicted_Med = predict_Medications(Disease_input, Age_input, Period_input, Symptoms_input )\n",
    "print(f\"Predicted Medications: {predicted_Med}\")\n",
    "\n",
    "print(\"Thank You for Using Avinaash! This is for Primary Consultency Only, We always suggest you to Visit a Doctor!\")"
   ]
  },
  {
   "cell_type": "code",
   "execution_count": 382,
   "id": "0e4245e0-1f87-4780-9c4e-ab84ce735801",
   "metadata": {},
   "outputs": [
    {
     "name": "stdout",
     "output_type": "stream",
     "text": [
      "Predicted Medications: Rantac Syrup -5ml\n",
      "Thank You for Using Avinaash! This is for Primary Consultency Only, We always suggest you to Visit a Doctor!\n"
     ]
    }
   ],
   "source": [
    "Disease_input = 'Acidity'# Example input\n",
    "Age_input = 12\n",
    "Period_input = 1\n",
    "Symptoms_input = 'Regurgitation' # Example: Time in years\n",
    "\n",
    "predicted_Med = predict_Medications(Disease_input, Age_input, Period_input, Symptoms_input )\n",
    "print(f\"Predicted Medications: {predicted_Med}\")\n",
    "\n",
    "print(\"Thank You for Using Avinaash! This is for Primary Consultency Only, We always suggest you to Visit a Doctor!\")"
   ]
  },
  {
   "cell_type": "markdown",
   "id": "1c1d5d50-db76-4bd1-893e-5dc73b8d80eb",
   "metadata": {},
   "source": [
    "# Visualization Using MatPlotLib\n",
    "I'm also Bored of those TExts , \n",
    "\n",
    "What if we could Visualize Our Work??\n"
   ]
  },
  {
   "cell_type": "code",
   "execution_count": 383,
   "id": "ef31cf95-c91e-4711-bc7c-f56df126d0b6",
   "metadata": {},
   "outputs": [],
   "source": [
    "importances = model.feature_importances_\n",
    "features = X.columns\n",
    "indices = importances.argsort()[::-1]"
   ]
  },
  {
   "cell_type": "markdown",
   "id": "bcaafa31-d09e-4811-a992-0a8abd120e4d",
   "metadata": {},
   "source": [
    "# Pie Chart\n",
    "It helps use to Understand who Much of Disease Splits In our Dataset."
   ]
  },
  {
   "cell_type": "code",
   "execution_count": 384,
   "id": "de6ec4e2-9f89-49ba-8b24-a9cfa17b8665",
   "metadata": {
    "scrolled": true
   },
   "outputs": [
    {
     "data": {
      "image/png": "[encoded data removed]",
      "text/plain": [
       "<Figure size 640x480 with 1 Axes>"
      ]
     },
     "metadata": {},
     "output_type": "display_data"
    }
   ],
   "source": [
    "import matplotlib.pyplot as plt\n",
    "labels = ['Cold','Cough','Fever','Stomach Ache','Acidity','Head Ache']\n",
    "sizes = [ 20,10,25,30,5,10]\n",
    "colors = ['lightgreen','lightblue','red','lightsalmon','orange','yellow']\n",
    "explode = (0,0,0,0,0,0)\n",
    "plt.pie(sizes,explode=explode,labels=labels,colors=colors,autopct='%1.1f%%',shadow=True,startangle=140)\n",
    "plt.axis=('equal')\n",
    "plt.title('How Common are Common Diseases?')\n",
    "plt.show()"
   ]
  },
  {
   "cell_type": "markdown",
   "id": "2fbeb9d2-ef83-46b3-8087-ee683e3529c1",
   "metadata": {},
   "source": [
    "# Bar Graph\n",
    "It helps us to Understand the Demographics of the Disease and How much of it is distributed."
   ]
  },
  {
   "cell_type": "code",
   "execution_count": 385,
   "id": "c1d33de7-97ce-4160-8b68-28ed2c9cd246",
   "metadata": {
    "scrolled": true
   },
   "outputs": [
    {
     "data": {
      "image/png": "[encoded data removed]",
      "text/plain": [
       "<Figure size 640x480 with 1 Axes>"
      ]
     },
     "metadata": {},
     "output_type": "display_data"
    }
   ],
   "source": [
    "import matplotlib.pyplot as plt\n",
    "X = ['Cold','Cough','Fever','Stomach Ache','Acidity','Head Ache']\n",
    "Y = [2400,1400,3000,5000,800,1200]\n",
    "plt.bar(X,Y,color = 'lightcoral')\n",
    "plt.xlabel('Common Diseases')\n",
    "plt.ylabel('People Affected')\n",
    "plt.title('Demography of Diseases')\n",
    "plt.show()"
   ]
  }
 ],
 "metadata": {
  "kernelspec": {
   "display_name": "Python 3 (ipykernel)",
   "language": "python",
   "name": "python3"
  },
  "language_info": {
   "codemirror_mode": {
    "name": "ipython",
    "version": 3
   },
   "file_extension": ".py",
   "mimetype": "text/x-python",
   "name": "python",
   "nbconvert_exporter": "python",
   "pygments_lexer": "ipython3",
   "version": "3.10.12"
  }
 },
 "nbformat": 4,
 "nbformat_minor": 5
}
